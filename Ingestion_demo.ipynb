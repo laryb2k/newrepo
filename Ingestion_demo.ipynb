{
 "metadata": {
  "language_info": {
   "codemirror_mode": {
    "name": "ipython",
    "version": 3
   },
   "file_extension": ".py",
   "mimetype": "text/x-python",
   "name": "python",
   "nbconvert_exporter": "python",
   "pygments_lexer": "ipython3",
   "version": "3.7.9-final"
  },
  "orig_nbformat": 2,
  "kernelspec": {
   "name": "python3",
   "display_name": "Python 3",
   "language": "python"
  }
 },
 "nbformat": 4,
 "nbformat_minor": 2,
 "cells": [
  {
   "cell_type": "code",
   "execution_count": 1,
   "metadata": {},
   "outputs": [],
   "source": [
    "import sys\n",
    "sys.path.append(\"../\")\n",
    "%load_ext autoreload\n",
    "%autoreload 2\n",
    "\n",
    "## [Optional] Enable debug logging\n",
    "#import logging\n",
    "#logging.getLogger().setLevel(logging.DEBUG)\n"
   ]
  },
  {
   "cell_type": "code",
   "execution_count": 64,
   "metadata": {},
   "outputs": [],
   "source": [
    "from ailens.client.truera_workspace import BasicAuthentication\n",
    "from ailens.client.truera_workspace import TrueraWorkspace\n",
    "connection_string = \"http://api-truera.westus2.cloudapp.azure.com:8000/public/artifacts\"\n",
    "auth = BasicAuthentication(\"ailens\", \"ailens123\")\n",
    "# setting the current project is optional\n",
    "current_project = \"fico\"\n",
    "tru = TrueraWorkspace(connection_string, auth, current_project)"
   ]
  },
  {
   "source": [
    "# Get various metadata from the system\n",
    "## Get all projects"
   ],
   "cell_type": "markdown",
   "metadata": {}
  },
  {
   "cell_type": "code",
   "execution_count": 34,
   "metadata": {},
   "outputs": [
    {
     "output_type": "execute_result",
     "data": {
      "text/plain": [
       "['fico',\n",
       " 'lendingclub_large',\n",
       " 'sklearn_california_housing',\n",
       " 'homecredit',\n",
       " 'lendingclub',\n",
       " 'PIMA Diabetes',\n",
       " 'LendingClub with splits',\n",
       " 'Personal loan GBM',\n",
       " 'dot',\n",
       " 'LendingClubMonitoring',\n",
       " 'FicoNB',\n",
       " 'Adult Census',\n",
       " 'simple_testing',\n",
       " 'pima_diabetes',\n",
       " 'HBS',\n",
       " 'LendingClub with versions',\n",
       " 'Testing DataRobot']"
      ]
     },
     "metadata": {},
     "execution_count": 34
    }
   ],
   "source": [
    "tru.get_projects()"
   ]
  },
  {
   "source": [
    "## Get all models in the project"
   ],
   "cell_type": "markdown",
   "metadata": {}
  },
  {
   "cell_type": "code",
   "execution_count": 35,
   "metadata": {},
   "outputs": [
    {
     "output_type": "execute_result",
     "data": {
      "text/plain": [
       "['logistic', 'xgboost', 'h2o', 'logistic-pmml']"
      ]
     },
     "metadata": {},
     "execution_count": 35
    }
   ],
   "source": [
    "tru.get_models()"
   ]
  },
  {
   "source": [
    "### NOTE: Current project can be changed"
   ],
   "cell_type": "markdown",
   "metadata": {}
  },
  {
   "cell_type": "code",
   "execution_count": 55,
   "metadata": {},
   "outputs": [
    {
     "output_type": "execute_result",
     "data": {
      "text/plain": [
       "['XGBoost_2', 'XGBoost_3', 'XGBoost_1', 'RandomForest_3']"
      ]
     },
     "metadata": {},
     "execution_count": 55
    }
   ],
   "source": [
    "tru.set_current_project(\"FicoNB\", True)\n",
    "tru.get_models()"
   ]
  },
  {
   "source": [
    "# Train a new model for the project"
   ],
   "cell_type": "markdown",
   "metadata": {}
  },
  {
   "cell_type": "code",
   "execution_count": 37,
   "metadata": {},
   "outputs": [],
   "source": [
    "import pandas as pd \n",
    "import numpy as np \n",
    "\n",
    "# read the data\n",
    "int_column_names = ['ExternalRiskEstimate', 'MSinceOldestTradeOpen',\n",
    "       'MSinceMostRecentTradeOpen', 'AverageMInFile', 'NumSatisfactoryTrades',\n",
    "       'NumTrades60Ever2DerogPubRec', 'NumTrades90Ever2DerogPubRec',\n",
    "       'PercentTradesNeverDelq', 'MSinceMostRecentDelq',\n",
    "       'MaxDelq2PublicRecLast12M', 'MaxDelqEver', 'NumTotalTrades',\n",
    "       'NumTradesOpeninLast12M', 'PercentInstallTrades',\n",
    "       'MSinceMostRecentInqexcl7days', 'NumInqLast6M', 'NumInqLast6Mexcl7days',\n",
    "       'NetFractionRevolvingBurden', 'NetFractionInstallBurden',\n",
    "       'NumRevolvingTradesWBalance', 'NumInstallTradesWBalance',\n",
    "       'NumBank2NatlTradesWHighUtilization', 'PercentTradesWBalance']\n",
    "df = pd.read_csv(\"../fico/original/heloc_dataset_v1.csv\", \n",
    "                 dtype={column: np.int for column in int_column_names})\n",
    "# separate label and input\n",
    "df['RiskPerformance'] = df['RiskPerformance'].transform(lambda risk: 1 if risk=='Good' else 0)\n",
    "Y = df['RiskPerformance']\n",
    "X = df\n",
    "X.drop('RiskPerformance' , axis=1, inplace=True)"
   ]
  },
  {
   "cell_type": "code",
   "execution_count": 38,
   "metadata": {},
   "outputs": [
    {
     "output_type": "stream",
     "name": "stdout",
     "text": [
      "Score: 0.7165391969407265\n"
     ]
    }
   ],
   "source": [
    "from xgboost import XGBClassifier\n",
    "from sklearn.model_selection import train_test_split\n",
    "from sklearn.model_selection import cross_val_score\n",
    "from sklearn import metrics\n",
    "from sklearn import preprocessing\n",
    "\n",
    "X_scaled = preprocessing.scale(X)\n",
    "# create train test split\n",
    "X_train, X_test, y_train, y_test = train_test_split(X_scaled, Y.values, test_size=0.4, random_state=0)\n",
    "\n",
    "params_xgb = {\n",
    "        'n_estimators': 100,\n",
    "        'max_depth': 3,\n",
    "        'min_child_weight': 5,\n",
    "        'subsample': 0.7,\n",
    "        'colsample_bytree': 1\n",
    "}\n",
    "\n",
    "xgb = XGBClassifier(**params_xgb)\n",
    "\n",
    "xgb.fit(X_train, y_train)\n",
    "\n",
    "score = xgb.score(X_test, y_test)\n",
    "print(\"Score: %s\" % score)"
   ]
  },
  {
   "cell_type": "code",
   "execution_count": 44,
   "metadata": {},
   "outputs": [
    {
     "output_type": "stream",
     "name": "stdout",
     "text": [
      "Score: 0.7160611854684512\n"
     ]
    }
   ],
   "source": [
    "from sklearn.ensemble import RandomForestClassifier\n",
    "clf = RandomForestClassifier()\n",
    "clf.fit(X_train, y_train)\n",
    "score = clf.score(X_test, y_test)\n",
    "print(\"Score: %s\" % score)"
   ]
  },
  {
   "source": [
    "# Save new data split and model"
   ],
   "cell_type": "markdown",
   "metadata": {}
  },
  {
   "cell_type": "code",
   "execution_count": 57,
   "metadata": {},
   "outputs": [
    {
     "output_type": "execute_result",
     "data": {
      "text/plain": [
       "['FicoNB']"
      ]
     },
     "metadata": {},
     "execution_count": 57
    }
   ],
   "source": [
    "tru.set_current_data_collection(\"FicoNB\", True)\n",
    "tru.get_data_collections()"
   ]
  },
  {
   "cell_type": "code",
   "execution_count": 42,
   "metadata": {},
   "outputs": [
    {
     "output_type": "stream",
     "name": "stdout",
     "text": [
      "/tmp/tmpkv_edojv 4752723\n/tmp/tmp75i2xv29 20918\n"
     ]
    }
   ],
   "source": [
    "\n",
    "df_x_scaled = pd.DataFrame(data=X_scaled, columns=X.columns)\n",
    "tru.save_data_split(\"train\", df_x_scaled, label_data=Y, split_type=\"all\")"
   ]
  },
  {
   "cell_type": "code",
   "execution_count": 65,
   "metadata": {},
   "outputs": [
    {
     "output_type": "stream",
     "name": "stdout",
     "text": [
      "Done\n",
      "Verification Done\n",
      "Put resource done.\n",
      "Model uploaded to: http://api-truera.westus2.cloudapp.azure.com:8000/p/FicoNB/m/FicoNB*XGBoost_7/\n"
     ]
    }
   ],
   "source": [
    "model_name = \"XGBoost_7\"\n",
    "tru.save_python_model(model_name, xgb)"
   ]
  },
  {
   "cell_type": "code",
   "execution_count": 46,
   "metadata": {},
   "outputs": [
    {
     "output_type": "stream",
     "name": "stdout",
     "text": [
      "Done\n",
      "Verification Done\n",
      "Put resource done.\n"
     ]
    }
   ],
   "source": [
    "model_name = \"RandomForest_3\"\n",
    "tru.save_python_model(model_name, clf)"
   ]
  },
  {
   "source": [
    "## Delete Models or Data Collections"
   ],
   "cell_type": "markdown",
   "metadata": {}
  },
  {
   "cell_type": "code",
   "execution_count": 9,
   "metadata": {},
   "outputs": [
    {
     "output_type": "stream",
     "name": "stdout",
     "text": [
      "Delete resource succeeded. Project_id: FicoNB intra_artifact_path: \n",
      "Delete resource succeeded. Project_id: FicoNB intra_artifact_path: \n",
      "Delete resource succeeded. Project_id: FicoNB intra_artifact_path: \n",
      "Delete resource succeeded. Project_id: FicoNB intra_artifact_path: \n",
      "Delete resource succeeded. Project_id: FicoNB intra_artifact_path: \n",
      "Delete resource succeeded. Project_id: FicoNB intra_artifact_path: \n"
     ]
    }
   ],
   "source": [
    "for m in tru.get_models():\n",
    "    tru.delete_model(m)"
   ]
  },
  {
   "cell_type": "code",
   "execution_count": 142,
   "metadata": {},
   "outputs": [
    {
     "output_type": "stream",
     "name": "stdout",
     "text": [
      "Delete resource succeeded. Project_id: FicoNB intra_artifact_path: \n"
     ]
    }
   ],
   "source": [
    "tru.delete_data_split(\"train\")\n",
    "tru.delete_data_collection(\"train\")"
   ]
  }
 ]
}